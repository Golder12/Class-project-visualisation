{
 "cells": [
  {
   "cell_type": "code",
   "execution_count": 126,
   "id": "0b5dc965",
   "metadata": {},
   "outputs": [],
   "source": [
    "import pandas as pd\n",
    "import matplotlib.pyplot as plt\n",
    "import seaborn as sns"
   ]
  },
  {
   "cell_type": "markdown",
   "id": "08092e16",
   "metadata": {},
   "source": [
    "In the next code cell, loading the dataset and looking at sample data from it."
   ]
  },
  {
   "cell_type": "code",
   "execution_count": 102,
   "id": "e965bef6",
   "metadata": {},
   "outputs": [
    {
     "data": {
      "text/html": [
       "<div>\n",
       "<style scoped>\n",
       "    .dataframe tbody tr th:only-of-type {\n",
       "        vertical-align: middle;\n",
       "    }\n",
       "\n",
       "    .dataframe tbody tr th {\n",
       "        vertical-align: top;\n",
       "    }\n",
       "\n",
       "    .dataframe thead th {\n",
       "        text-align: right;\n",
       "    }\n",
       "</style>\n",
       "<table border=\"1\" class=\"dataframe\">\n",
       "  <thead>\n",
       "    <tr style=\"text-align: right;\">\n",
       "      <th></th>\n",
       "      <th>gender</th>\n",
       "      <th>race/ethnicity</th>\n",
       "      <th>parent_education_level</th>\n",
       "      <th>lunch</th>\n",
       "      <th>test_prep_course</th>\n",
       "      <th>math</th>\n",
       "      <th>reading</th>\n",
       "      <th>writing</th>\n",
       "    </tr>\n",
       "  </thead>\n",
       "  <tbody>\n",
       "    <tr>\n",
       "      <th>0</th>\n",
       "      <td>female</td>\n",
       "      <td>group B</td>\n",
       "      <td>bachelor's degree</td>\n",
       "      <td>standard</td>\n",
       "      <td>none</td>\n",
       "      <td>72</td>\n",
       "      <td>72</td>\n",
       "      <td>74</td>\n",
       "    </tr>\n",
       "    <tr>\n",
       "      <th>1</th>\n",
       "      <td>female</td>\n",
       "      <td>group C</td>\n",
       "      <td>some college</td>\n",
       "      <td>standard</td>\n",
       "      <td>completed</td>\n",
       "      <td>69</td>\n",
       "      <td>90</td>\n",
       "      <td>88</td>\n",
       "    </tr>\n",
       "    <tr>\n",
       "      <th>2</th>\n",
       "      <td>female</td>\n",
       "      <td>group B</td>\n",
       "      <td>master's degree</td>\n",
       "      <td>standard</td>\n",
       "      <td>none</td>\n",
       "      <td>90</td>\n",
       "      <td>95</td>\n",
       "      <td>93</td>\n",
       "    </tr>\n",
       "    <tr>\n",
       "      <th>3</th>\n",
       "      <td>male</td>\n",
       "      <td>group A</td>\n",
       "      <td>associate's degree</td>\n",
       "      <td>free/reduced</td>\n",
       "      <td>none</td>\n",
       "      <td>47</td>\n",
       "      <td>57</td>\n",
       "      <td>44</td>\n",
       "    </tr>\n",
       "    <tr>\n",
       "      <th>4</th>\n",
       "      <td>male</td>\n",
       "      <td>group C</td>\n",
       "      <td>some college</td>\n",
       "      <td>standard</td>\n",
       "      <td>none</td>\n",
       "      <td>76</td>\n",
       "      <td>78</td>\n",
       "      <td>75</td>\n",
       "    </tr>\n",
       "    <tr>\n",
       "      <th>5</th>\n",
       "      <td>female</td>\n",
       "      <td>group B</td>\n",
       "      <td>associate's degree</td>\n",
       "      <td>standard</td>\n",
       "      <td>none</td>\n",
       "      <td>71</td>\n",
       "      <td>83</td>\n",
       "      <td>78</td>\n",
       "    </tr>\n",
       "    <tr>\n",
       "      <th>6</th>\n",
       "      <td>female</td>\n",
       "      <td>group B</td>\n",
       "      <td>some college</td>\n",
       "      <td>standard</td>\n",
       "      <td>completed</td>\n",
       "      <td>88</td>\n",
       "      <td>95</td>\n",
       "      <td>92</td>\n",
       "    </tr>\n",
       "    <tr>\n",
       "      <th>7</th>\n",
       "      <td>male</td>\n",
       "      <td>group B</td>\n",
       "      <td>some college</td>\n",
       "      <td>free/reduced</td>\n",
       "      <td>none</td>\n",
       "      <td>40</td>\n",
       "      <td>43</td>\n",
       "      <td>39</td>\n",
       "    </tr>\n",
       "    <tr>\n",
       "      <th>8</th>\n",
       "      <td>male</td>\n",
       "      <td>group D</td>\n",
       "      <td>high school</td>\n",
       "      <td>free/reduced</td>\n",
       "      <td>completed</td>\n",
       "      <td>64</td>\n",
       "      <td>64</td>\n",
       "      <td>67</td>\n",
       "    </tr>\n",
       "    <tr>\n",
       "      <th>9</th>\n",
       "      <td>female</td>\n",
       "      <td>group B</td>\n",
       "      <td>high school</td>\n",
       "      <td>free/reduced</td>\n",
       "      <td>none</td>\n",
       "      <td>38</td>\n",
       "      <td>60</td>\n",
       "      <td>50</td>\n",
       "    </tr>\n",
       "  </tbody>\n",
       "</table>\n",
       "</div>"
      ],
      "text/plain": [
       "   gender race/ethnicity parent_education_level         lunch  \\\n",
       "0  female        group B      bachelor's degree      standard   \n",
       "1  female        group C           some college      standard   \n",
       "2  female        group B        master's degree      standard   \n",
       "3    male        group A     associate's degree  free/reduced   \n",
       "4    male        group C           some college      standard   \n",
       "5  female        group B     associate's degree      standard   \n",
       "6  female        group B           some college      standard   \n",
       "7    male        group B           some college  free/reduced   \n",
       "8    male        group D            high school  free/reduced   \n",
       "9  female        group B            high school  free/reduced   \n",
       "\n",
       "  test_prep_course  math  reading  writing  \n",
       "0             none    72       72       74  \n",
       "1        completed    69       90       88  \n",
       "2             none    90       95       93  \n",
       "3             none    47       57       44  \n",
       "4             none    76       78       75  \n",
       "5             none    71       83       78  \n",
       "6        completed    88       95       92  \n",
       "7             none    40       43       39  \n",
       "8        completed    64       64       67  \n",
       "9             none    38       60       50  "
      ]
     },
     "execution_count": 102,
     "metadata": {},
     "output_type": "execute_result"
    }
   ],
   "source": [
    "studentData = pd.read_csv('exams.csv')\n",
    "studentData.head(10)"
   ]
  },
  {
   "cell_type": "markdown",
   "id": "7391c638",
   "metadata": {},
   "source": [
    "## Cleaning the data"
   ]
  },
  {
   "cell_type": "markdown",
   "id": "90a72a73",
   "metadata": {},
   "source": [
    "Checking for duplicates within the dataset"
   ]
  },
  {
   "cell_type": "code",
   "execution_count": 103,
   "id": "b93be742",
   "metadata": {},
   "outputs": [
    {
     "name": "stdout",
     "output_type": "stream",
     "text": [
      "Duplicate Rows :\n"
     ]
    },
    {
     "data": {
      "text/html": [
       "<div>\n",
       "<style scoped>\n",
       "    .dataframe tbody tr th:only-of-type {\n",
       "        vertical-align: middle;\n",
       "    }\n",
       "\n",
       "    .dataframe tbody tr th {\n",
       "        vertical-align: top;\n",
       "    }\n",
       "\n",
       "    .dataframe thead th {\n",
       "        text-align: right;\n",
       "    }\n",
       "</style>\n",
       "<table border=\"1\" class=\"dataframe\">\n",
       "  <thead>\n",
       "    <tr style=\"text-align: right;\">\n",
       "      <th></th>\n",
       "      <th>gender</th>\n",
       "      <th>race/ethnicity</th>\n",
       "      <th>parent_education_level</th>\n",
       "      <th>lunch</th>\n",
       "      <th>test_prep_course</th>\n",
       "      <th>math</th>\n",
       "      <th>reading</th>\n",
       "      <th>writing</th>\n",
       "    </tr>\n",
       "  </thead>\n",
       "  <tbody>\n",
       "  </tbody>\n",
       "</table>\n",
       "</div>"
      ],
      "text/plain": [
       "Empty DataFrame\n",
       "Columns: [gender, race/ethnicity, parent_education_level, lunch, test_prep_course, math, reading, writing]\n",
       "Index: []"
      ]
     },
     "execution_count": 103,
     "metadata": {},
     "output_type": "execute_result"
    }
   ],
   "source": [
    "duplicate = studentData[studentData.duplicated()]\n",
    " \n",
    "print(\"Duplicate Rows :\")\n",
    " \n",
    "# Print the resultant Dataframe\n",
    "duplicate"
   ]
  },
  {
   "cell_type": "markdown",
   "id": "0662c7b2",
   "metadata": {},
   "source": [
    "No duplicate rows"
   ]
  },
  {
   "cell_type": "markdown",
   "id": "8acbcc9e",
   "metadata": {},
   "source": [
    "For the next cleaning step, checking for any missing values within the dataset"
   ]
  },
  {
   "cell_type": "code",
   "execution_count": 104,
   "id": "759b3517",
   "metadata": {},
   "outputs": [
    {
     "name": "stdout",
     "output_type": "stream",
     "text": [
      "<class 'pandas.core.frame.DataFrame'>\n",
      "RangeIndex: 1000 entries, 0 to 999\n",
      "Data columns (total 8 columns):\n",
      " #   Column                  Non-Null Count  Dtype \n",
      "---  ------                  --------------  ----- \n",
      " 0   gender                  1000 non-null   object\n",
      " 1   race/ethnicity          1000 non-null   object\n",
      " 2   parent_education_level  1000 non-null   object\n",
      " 3   lunch                   1000 non-null   object\n",
      " 4   test_prep_course        1000 non-null   object\n",
      " 5   math                    1000 non-null   int64 \n",
      " 6   reading                 1000 non-null   int64 \n",
      " 7   writing                 1000 non-null   int64 \n",
      "dtypes: int64(3), object(5)\n",
      "memory usage: 62.6+ KB\n"
     ]
    }
   ],
   "source": [
    "studentData.info()"
   ]
  },
  {
   "cell_type": "markdown",
   "id": "67701439",
   "metadata": {},
   "source": [
    "No missing values"
   ]
  },
  {
   "cell_type": "markdown",
   "id": "66c14760",
   "metadata": {},
   "source": [
    "# Analysis of the data"
   ]
  },
  {
   "cell_type": "markdown",
   "id": "48c54871",
   "metadata": {},
   "source": [
    "## 1. What are the average reading scores for students with/without the test preparation course?"
   ]
  },
  {
   "cell_type": "code",
   "execution_count": 106,
   "id": "40d19919",
   "metadata": {},
   "outputs": [
    {
     "data": {
      "text/html": [
       "<div>\n",
       "<style scoped>\n",
       "    .dataframe tbody tr th:only-of-type {\n",
       "        vertical-align: middle;\n",
       "    }\n",
       "\n",
       "    .dataframe tbody tr th {\n",
       "        vertical-align: top;\n",
       "    }\n",
       "\n",
       "    .dataframe thead th {\n",
       "        text-align: right;\n",
       "    }\n",
       "</style>\n",
       "<table border=\"1\" class=\"dataframe\">\n",
       "  <thead>\n",
       "    <tr style=\"text-align: right;\">\n",
       "      <th></th>\n",
       "      <th>reading</th>\n",
       "    </tr>\n",
       "    <tr>\n",
       "      <th>test_prep_course</th>\n",
       "      <th></th>\n",
       "    </tr>\n",
       "  </thead>\n",
       "  <tbody>\n",
       "    <tr>\n",
       "      <th>completed</th>\n",
       "      <td>73.893855</td>\n",
       "    </tr>\n",
       "    <tr>\n",
       "      <th>none</th>\n",
       "      <td>66.534268</td>\n",
       "    </tr>\n",
       "  </tbody>\n",
       "</table>\n",
       "</div>"
      ],
      "text/plain": [
       "                    reading\n",
       "test_prep_course           \n",
       "completed         73.893855\n",
       "none              66.534268"
      ]
     },
     "execution_count": 106,
     "metadata": {},
     "output_type": "execute_result"
    }
   ],
   "source": [
    "# Creating a dataframe containing the average reading scores for those who took or did not take the preparation course\n",
    "avg_reading_scores = studentData.groupby('test_prep_course')[['reading']].mean()\n",
    "avg_reading_scores"
   ]
  },
  {
   "cell_type": "markdown",
   "id": "354396b7",
   "metadata": {},
   "source": [
    "From the data above, one can see that the students who took the test preparation course had a better average reading score than those who did not."
   ]
  },
  {
   "cell_type": "code",
   "execution_count": 107,
   "id": "5ac66d7e",
   "metadata": {},
   "outputs": [
    {
     "data": {
      "text/plain": [
       "Text(0.5, 1.0, 'Average reading scores for students with/without the test preparation course')"
      ]
     },
     "execution_count": 107,
     "metadata": {},
     "output_type": "execute_result"
    },
    {
     "data": {
      "image/png": "[encoded data removed]",
      "text/plain": [
       "<Figure size 432x288 with 1 Axes>"
      ]
     },
     "metadata": {
      "needs_background": "light"
     },
     "output_type": "display_data"
    }
   ],
   "source": [
    "# plotting the average reading scores visualization for the took test/didn't take test students\n",
    "avg_reading_scores[\"reading\"].plot(x=\"test_prep_course\", kind=\"bar\",rot=0)\n",
    "plt.title(\"Average reading scores for students with/without the test preparation course\")"
   ]
  },
  {
   "cell_type": "markdown",
   "id": "f0789f34",
   "metadata": {},
   "source": [
    "## 2. The average scores for the different parental education levels"
   ]
  },
  {
   "cell_type": "code",
   "execution_count": 108,
   "id": "663beb4c",
   "metadata": {},
   "outputs": [
    {
     "data": {
      "text/html": [
       "<div>\n",
       "<style scoped>\n",
       "    .dataframe tbody tr th:only-of-type {\n",
       "        vertical-align: middle;\n",
       "    }\n",
       "\n",
       "    .dataframe tbody tr th {\n",
       "        vertical-align: top;\n",
       "    }\n",
       "\n",
       "    .dataframe thead th {\n",
       "        text-align: right;\n",
       "    }\n",
       "</style>\n",
       "<table border=\"1\" class=\"dataframe\">\n",
       "  <thead>\n",
       "    <tr style=\"text-align: right;\">\n",
       "      <th></th>\n",
       "      <th>reading</th>\n",
       "      <th>math</th>\n",
       "      <th>writing</th>\n",
       "    </tr>\n",
       "    <tr>\n",
       "      <th>parent_education_level</th>\n",
       "      <th></th>\n",
       "      <th></th>\n",
       "      <th></th>\n",
       "    </tr>\n",
       "  </thead>\n",
       "  <tbody>\n",
       "    <tr>\n",
       "      <th>associate's degree</th>\n",
       "      <td>70.927928</td>\n",
       "      <td>67.882883</td>\n",
       "      <td>69.896396</td>\n",
       "    </tr>\n",
       "    <tr>\n",
       "      <th>bachelor's degree</th>\n",
       "      <td>73.000000</td>\n",
       "      <td>69.389831</td>\n",
       "      <td>73.381356</td>\n",
       "    </tr>\n",
       "    <tr>\n",
       "      <th>high school</th>\n",
       "      <td>64.704082</td>\n",
       "      <td>62.137755</td>\n",
       "      <td>62.448980</td>\n",
       "    </tr>\n",
       "    <tr>\n",
       "      <th>master's degree</th>\n",
       "      <td>75.372881</td>\n",
       "      <td>69.745763</td>\n",
       "      <td>75.677966</td>\n",
       "    </tr>\n",
       "    <tr>\n",
       "      <th>some college</th>\n",
       "      <td>69.460177</td>\n",
       "      <td>67.128319</td>\n",
       "      <td>68.840708</td>\n",
       "    </tr>\n",
       "    <tr>\n",
       "      <th>some high school</th>\n",
       "      <td>66.938547</td>\n",
       "      <td>63.497207</td>\n",
       "      <td>64.888268</td>\n",
       "    </tr>\n",
       "  </tbody>\n",
       "</table>\n",
       "</div>"
      ],
      "text/plain": [
       "                          reading       math    writing\n",
       "parent_education_level                                 \n",
       "associate's degree      70.927928  67.882883  69.896396\n",
       "bachelor's degree       73.000000  69.389831  73.381356\n",
       "high school             64.704082  62.137755  62.448980\n",
       "master's degree         75.372881  69.745763  75.677966\n",
       "some college            69.460177  67.128319  68.840708\n",
       "some high school        66.938547  63.497207  64.888268"
      ]
     },
     "execution_count": 108,
     "metadata": {},
     "output_type": "execute_result"
    }
   ],
   "source": [
    "# Creating a dataframe containing the average test scores for the different education levels\n",
    "avg_parent_education_scores = studentData.groupby('parent_education_level')[['reading','math','writing']].mean()\n",
    "avg_parent_education_scores"
   ]
  },
  {
   "cell_type": "code",
   "execution_count": 109,
   "id": "8db82f8a",
   "metadata": {},
   "outputs": [
    {
     "data": {
      "text/plain": [
       "Text(0, 0.5, 'Average Scores')"
      ]
     },
     "execution_count": 109,
     "metadata": {},
     "output_type": "execute_result"
    },
    {
     "data": {
      "image/png": "[encoded data removed]",
      "text/plain": [
       "<Figure size 1440x720 with 1 Axes>"
      ]
     },
     "metadata": {
      "needs_background": "light"
     },
     "output_type": "display_data"
    }
   ],
   "source": [
    "ax = avg_parent_education_scores.plot(kind=\"bar\",figsize=(20, 10),rot=0)\n",
    "\n",
    "ax.set_xlabel(\"Parental education levels\")\n",
    "ax.set_ylabel(\"Average Scores\")"
   ]
  },
  {
   "cell_type": "markdown",
   "id": "d8c83167",
   "metadata": {},
   "source": [
    "From the graph above, once can see that the average test scores for students whose parents have a master's degree is higher than the other education levels.\n",
    "Students whose parents who have a high school education level have the least average test scores for the various education levels.\n",
    "\n",
    "Reading seems to be the best done test across the different education levels.\n",
    "One can also notice that for all education levels, the test scores for math is less than the other tests and so this means that generally, the students are not doing as well in math as in the other subjects, regardless of the education levels.\n"
   ]
  },
  {
   "cell_type": "markdown",
   "id": "870e065e",
   "metadata": {},
   "source": [
    "## 4. Compare the average scores for students with/without the test preparation course for different parental education levels \n"
   ]
  },
  {
   "cell_type": "code",
   "execution_count": 110,
   "id": "8905f365",
   "metadata": {},
   "outputs": [
    {
     "data": {
      "text/html": [
       "<div>\n",
       "<style scoped>\n",
       "    .dataframe tbody tr th:only-of-type {\n",
       "        vertical-align: middle;\n",
       "    }\n",
       "\n",
       "    .dataframe tbody tr th {\n",
       "        vertical-align: top;\n",
       "    }\n",
       "\n",
       "    .dataframe thead th {\n",
       "        text-align: right;\n",
       "    }\n",
       "</style>\n",
       "<table border=\"1\" class=\"dataframe\">\n",
       "  <thead>\n",
       "    <tr style=\"text-align: right;\">\n",
       "      <th></th>\n",
       "      <th>gender</th>\n",
       "      <th>race/ethnicity</th>\n",
       "      <th>parent_education_level</th>\n",
       "      <th>lunch</th>\n",
       "      <th>test_prep_course</th>\n",
       "      <th>math</th>\n",
       "      <th>reading</th>\n",
       "      <th>writing</th>\n",
       "    </tr>\n",
       "  </thead>\n",
       "  <tbody>\n",
       "    <tr>\n",
       "      <th>0</th>\n",
       "      <td>female</td>\n",
       "      <td>group B</td>\n",
       "      <td>bachelor's degree</td>\n",
       "      <td>standard</td>\n",
       "      <td>none</td>\n",
       "      <td>72</td>\n",
       "      <td>72</td>\n",
       "      <td>74</td>\n",
       "    </tr>\n",
       "    <tr>\n",
       "      <th>1</th>\n",
       "      <td>female</td>\n",
       "      <td>group C</td>\n",
       "      <td>some college</td>\n",
       "      <td>standard</td>\n",
       "      <td>completed</td>\n",
       "      <td>69</td>\n",
       "      <td>90</td>\n",
       "      <td>88</td>\n",
       "    </tr>\n",
       "    <tr>\n",
       "      <th>2</th>\n",
       "      <td>female</td>\n",
       "      <td>group B</td>\n",
       "      <td>master's degree</td>\n",
       "      <td>standard</td>\n",
       "      <td>none</td>\n",
       "      <td>90</td>\n",
       "      <td>95</td>\n",
       "      <td>93</td>\n",
       "    </tr>\n",
       "    <tr>\n",
       "      <th>3</th>\n",
       "      <td>male</td>\n",
       "      <td>group A</td>\n",
       "      <td>associate's degree</td>\n",
       "      <td>free/reduced</td>\n",
       "      <td>none</td>\n",
       "      <td>47</td>\n",
       "      <td>57</td>\n",
       "      <td>44</td>\n",
       "    </tr>\n",
       "    <tr>\n",
       "      <th>4</th>\n",
       "      <td>male</td>\n",
       "      <td>group C</td>\n",
       "      <td>some college</td>\n",
       "      <td>standard</td>\n",
       "      <td>none</td>\n",
       "      <td>76</td>\n",
       "      <td>78</td>\n",
       "      <td>75</td>\n",
       "    </tr>\n",
       "    <tr>\n",
       "      <th>...</th>\n",
       "      <td>...</td>\n",
       "      <td>...</td>\n",
       "      <td>...</td>\n",
       "      <td>...</td>\n",
       "      <td>...</td>\n",
       "      <td>...</td>\n",
       "      <td>...</td>\n",
       "      <td>...</td>\n",
       "    </tr>\n",
       "    <tr>\n",
       "      <th>995</th>\n",
       "      <td>female</td>\n",
       "      <td>group E</td>\n",
       "      <td>master's degree</td>\n",
       "      <td>standard</td>\n",
       "      <td>completed</td>\n",
       "      <td>88</td>\n",
       "      <td>99</td>\n",
       "      <td>95</td>\n",
       "    </tr>\n",
       "    <tr>\n",
       "      <th>996</th>\n",
       "      <td>male</td>\n",
       "      <td>group C</td>\n",
       "      <td>high school</td>\n",
       "      <td>free/reduced</td>\n",
       "      <td>none</td>\n",
       "      <td>62</td>\n",
       "      <td>55</td>\n",
       "      <td>55</td>\n",
       "    </tr>\n",
       "    <tr>\n",
       "      <th>997</th>\n",
       "      <td>female</td>\n",
       "      <td>group C</td>\n",
       "      <td>high school</td>\n",
       "      <td>free/reduced</td>\n",
       "      <td>completed</td>\n",
       "      <td>59</td>\n",
       "      <td>71</td>\n",
       "      <td>65</td>\n",
       "    </tr>\n",
       "    <tr>\n",
       "      <th>998</th>\n",
       "      <td>female</td>\n",
       "      <td>group D</td>\n",
       "      <td>some college</td>\n",
       "      <td>standard</td>\n",
       "      <td>completed</td>\n",
       "      <td>68</td>\n",
       "      <td>78</td>\n",
       "      <td>77</td>\n",
       "    </tr>\n",
       "    <tr>\n",
       "      <th>999</th>\n",
       "      <td>female</td>\n",
       "      <td>group D</td>\n",
       "      <td>some college</td>\n",
       "      <td>free/reduced</td>\n",
       "      <td>none</td>\n",
       "      <td>77</td>\n",
       "      <td>86</td>\n",
       "      <td>86</td>\n",
       "    </tr>\n",
       "  </tbody>\n",
       "</table>\n",
       "<p>1000 rows × 8 columns</p>\n",
       "</div>"
      ],
      "text/plain": [
       "     gender race/ethnicity parent_education_level         lunch  \\\n",
       "0    female        group B      bachelor's degree      standard   \n",
       "1    female        group C           some college      standard   \n",
       "2    female        group B        master's degree      standard   \n",
       "3      male        group A     associate's degree  free/reduced   \n",
       "4      male        group C           some college      standard   \n",
       "..      ...            ...                    ...           ...   \n",
       "995  female        group E        master's degree      standard   \n",
       "996    male        group C            high school  free/reduced   \n",
       "997  female        group C            high school  free/reduced   \n",
       "998  female        group D           some college      standard   \n",
       "999  female        group D           some college  free/reduced   \n",
       "\n",
       "    test_prep_course  math  reading  writing  \n",
       "0               none    72       72       74  \n",
       "1          completed    69       90       88  \n",
       "2               none    90       95       93  \n",
       "3               none    47       57       44  \n",
       "4               none    76       78       75  \n",
       "..               ...   ...      ...      ...  \n",
       "995        completed    88       99       95  \n",
       "996             none    62       55       55  \n",
       "997        completed    59       71       65  \n",
       "998        completed    68       78       77  \n",
       "999             none    77       86       86  \n",
       "\n",
       "[1000 rows x 8 columns]"
      ]
     },
     "execution_count": 110,
     "metadata": {},
     "output_type": "execute_result"
    }
   ],
   "source": [
    "studentData"
   ]
  },
  {
   "cell_type": "code",
   "execution_count": 111,
   "id": "748094b7",
   "metadata": {},
   "outputs": [
    {
     "data": {
      "text/html": [
       "<div>\n",
       "<style scoped>\n",
       "    .dataframe tbody tr th:only-of-type {\n",
       "        vertical-align: middle;\n",
       "    }\n",
       "\n",
       "    .dataframe tbody tr th {\n",
       "        vertical-align: top;\n",
       "    }\n",
       "\n",
       "    .dataframe thead th {\n",
       "        text-align: right;\n",
       "    }\n",
       "</style>\n",
       "<table border=\"1\" class=\"dataframe\">\n",
       "  <thead>\n",
       "    <tr style=\"text-align: right;\">\n",
       "      <th></th>\n",
       "      <th></th>\n",
       "      <th>reading</th>\n",
       "      <th>writing</th>\n",
       "      <th>math</th>\n",
       "    </tr>\n",
       "    <tr>\n",
       "      <th>test_prep_course</th>\n",
       "      <th>parent_education_level</th>\n",
       "      <th></th>\n",
       "      <th></th>\n",
       "      <th></th>\n",
       "    </tr>\n",
       "  </thead>\n",
       "  <tbody>\n",
       "    <tr>\n",
       "      <th rowspan=\"6\" valign=\"top\">completed</th>\n",
       "      <th>associate's degree</th>\n",
       "      <td>76.170732</td>\n",
       "      <td>76.817073</td>\n",
       "      <td>71.829268</td>\n",
       "    </tr>\n",
       "    <tr>\n",
       "      <th>bachelor's degree</th>\n",
       "      <td>76.739130</td>\n",
       "      <td>78.695652</td>\n",
       "      <td>73.282609</td>\n",
       "    </tr>\n",
       "    <tr>\n",
       "      <th>high school</th>\n",
       "      <td>67.839286</td>\n",
       "      <td>68.053571</td>\n",
       "      <td>65.000000</td>\n",
       "    </tr>\n",
       "    <tr>\n",
       "      <th>master's degree</th>\n",
       "      <td>78.250000</td>\n",
       "      <td>80.100000</td>\n",
       "      <td>70.600000</td>\n",
       "    </tr>\n",
       "    <tr>\n",
       "      <th>some college</th>\n",
       "      <td>75.987013</td>\n",
       "      <td>76.519481</td>\n",
       "      <td>71.454545</td>\n",
       "    </tr>\n",
       "    <tr>\n",
       "      <th>some high school</th>\n",
       "      <td>70.948052</td>\n",
       "      <td>70.363636</td>\n",
       "      <td>66.701299</td>\n",
       "    </tr>\n",
       "    <tr>\n",
       "      <th rowspan=\"6\" valign=\"top\">none</th>\n",
       "      <th>associate's degree</th>\n",
       "      <td>67.857143</td>\n",
       "      <td>65.842857</td>\n",
       "      <td>65.571429</td>\n",
       "    </tr>\n",
       "    <tr>\n",
       "      <th>bachelor's degree</th>\n",
       "      <td>70.611111</td>\n",
       "      <td>69.986111</td>\n",
       "      <td>66.902778</td>\n",
       "    </tr>\n",
       "    <tr>\n",
       "      <th>high school</th>\n",
       "      <td>63.450000</td>\n",
       "      <td>60.207143</td>\n",
       "      <td>60.992857</td>\n",
       "    </tr>\n",
       "    <tr>\n",
       "      <th>master's degree</th>\n",
       "      <td>73.897436</td>\n",
       "      <td>73.410256</td>\n",
       "      <td>69.307692</td>\n",
       "    </tr>\n",
       "    <tr>\n",
       "      <th>some college</th>\n",
       "      <td>66.087248</td>\n",
       "      <td>64.872483</td>\n",
       "      <td>64.892617</td>\n",
       "    </tr>\n",
       "    <tr>\n",
       "      <th>some high school</th>\n",
       "      <td>63.911765</td>\n",
       "      <td>60.754902</td>\n",
       "      <td>61.078431</td>\n",
       "    </tr>\n",
       "  </tbody>\n",
       "</table>\n",
       "</div>"
      ],
      "text/plain": [
       "                                           reading    writing       math\n",
       "test_prep_course parent_education_level                                 \n",
       "completed        associate's degree      76.170732  76.817073  71.829268\n",
       "                 bachelor's degree       76.739130  78.695652  73.282609\n",
       "                 high school             67.839286  68.053571  65.000000\n",
       "                 master's degree         78.250000  80.100000  70.600000\n",
       "                 some college            75.987013  76.519481  71.454545\n",
       "                 some high school        70.948052  70.363636  66.701299\n",
       "none             associate's degree      67.857143  65.842857  65.571429\n",
       "                 bachelor's degree       70.611111  69.986111  66.902778\n",
       "                 high school             63.450000  60.207143  60.992857\n",
       "                 master's degree         73.897436  73.410256  69.307692\n",
       "                 some college            66.087248  64.872483  64.892617\n",
       "                 some high school        63.911765  60.754902  61.078431"
      ]
     },
     "execution_count": 111,
     "metadata": {},
     "output_type": "execute_result"
    }
   ],
   "source": [
    "#creating a dataframe called test_subgroup that contains the average test \n",
    "# scores for the students who either took the test \n",
    "#or didn't, taking into consideration their parental education levels\n",
    "\n",
    "test_subgroup = studentData.groupby(['test_prep_course','parent_education_level'])[['reading','writing','math']].mean()\n",
    "test_subgroup"
   ]
  },
  {
   "cell_type": "code",
   "execution_count": 112,
   "id": "c1c404ac",
   "metadata": {},
   "outputs": [
    {
     "name": "stdout",
     "output_type": "stream",
     "text": [
      "                                           reading    writing       math\n",
      "test_prep_course parent_education_level                                 \n",
      "completed        associate's degree      76.170732  76.817073  71.829268\n",
      "                 bachelor's degree       76.739130  78.695652  73.282609\n",
      "                 high school             67.839286  68.053571  65.000000\n",
      "                 master's degree         78.250000  80.100000  70.600000\n",
      "                 some college            75.987013  76.519481  71.454545\n",
      "                 some high school        70.948052  70.363636  66.701299\n",
      "                                           reading    writing       math\n",
      "test_prep_course parent_education_level                                 \n",
      "none             associate's degree      67.857143  65.842857  65.571429\n",
      "                 bachelor's degree       70.611111  69.986111  66.902778\n",
      "                 high school             63.450000  60.207143  60.992857\n",
      "                 master's degree         73.897436  73.410256  69.307692\n",
      "                 some college            66.087248  64.872483  64.892617\n",
      "                 some high school        63.911765  60.754902  61.078431\n"
     ]
    }
   ],
   "source": [
    "# separating the test_subgroup dataframe into two smaller dataframes:\n",
    "# first dataframe, tookPrepCourse, contains the students who took the test prep course\n",
    "# second dataframe, noPrepCourse, contains the students who didn't take the test prep course\n",
    "\n",
    "\n",
    "tookPrepCourse = test_subgroup.loc[['completed']]\n",
    "print(tookPrepCourse)\n",
    "\n",
    "noPrepCourse = test_subgroup.loc[['none']]\n",
    "print(noPrepCourse)"
   ]
  },
  {
   "cell_type": "code",
   "execution_count": 113,
   "id": "fafb1eaf",
   "metadata": {},
   "outputs": [
    {
     "name": "stdout",
     "output_type": "stream",
     "text": [
      "                          reading    writing       math\n",
      "parent_education_level                                 \n",
      "associate's degree      76.170732  76.817073  71.829268\n",
      "bachelor's degree       76.739130  78.695652  73.282609\n",
      "high school             67.839286  68.053571  65.000000\n",
      "master's degree         78.250000  80.100000  70.600000\n",
      "some college            75.987013  76.519481  71.454545\n",
      "some high school        70.948052  70.363636  66.701299\n",
      "                          reading    writing       math\n",
      "parent_education_level                                 \n",
      "associate's degree      67.857143  65.842857  65.571429\n",
      "bachelor's degree       70.611111  69.986111  66.902778\n",
      "high school             63.450000  60.207143  60.992857\n",
      "master's degree         73.897436  73.410256  69.307692\n",
      "some college            66.087248  64.872483  64.892617\n",
      "some high school        63.911765  60.754902  61.078431\n"
     ]
    }
   ],
   "source": [
    "#dropping the first level index, test_prep_course, from the multilevel index of both smaller\n",
    "#dataframes so that there is only one index for easier graph plotting\n",
    "\n",
    "tookPrepCourse = tookPrepCourse.reset_index(level=0, drop=True)\n",
    "print(tookPrepCourse)\n",
    "\n",
    "noPrepCourse = noPrepCourse.reset_index(level=0, drop=True)\n",
    "print(noPrepCourse)"
   ]
  },
  {
   "cell_type": "code",
   "execution_count": 114,
   "id": "e77a3e1e",
   "metadata": {},
   "outputs": [
    {
     "data": {
      "text/html": [
       "<div>\n",
       "<style scoped>\n",
       "    .dataframe tbody tr th:only-of-type {\n",
       "        vertical-align: middle;\n",
       "    }\n",
       "\n",
       "    .dataframe tbody tr th {\n",
       "        vertical-align: top;\n",
       "    }\n",
       "\n",
       "    .dataframe thead th {\n",
       "        text-align: right;\n",
       "    }\n",
       "</style>\n",
       "<table border=\"1\" class=\"dataframe\">\n",
       "  <thead>\n",
       "    <tr style=\"text-align: right;\">\n",
       "      <th>parent_education_level</th>\n",
       "      <th>associate's degree</th>\n",
       "      <th>bachelor's degree</th>\n",
       "      <th>high school</th>\n",
       "      <th>master's degree</th>\n",
       "      <th>some college</th>\n",
       "      <th>some high school</th>\n",
       "    </tr>\n",
       "  </thead>\n",
       "  <tbody>\n",
       "    <tr>\n",
       "      <th>reading</th>\n",
       "      <td>67.857143</td>\n",
       "      <td>70.611111</td>\n",
       "      <td>63.450000</td>\n",
       "      <td>73.897436</td>\n",
       "      <td>66.087248</td>\n",
       "      <td>63.911765</td>\n",
       "    </tr>\n",
       "    <tr>\n",
       "      <th>writing</th>\n",
       "      <td>65.842857</td>\n",
       "      <td>69.986111</td>\n",
       "      <td>60.207143</td>\n",
       "      <td>73.410256</td>\n",
       "      <td>64.872483</td>\n",
       "      <td>60.754902</td>\n",
       "    </tr>\n",
       "    <tr>\n",
       "      <th>math</th>\n",
       "      <td>65.571429</td>\n",
       "      <td>66.902778</td>\n",
       "      <td>60.992857</td>\n",
       "      <td>69.307692</td>\n",
       "      <td>64.892617</td>\n",
       "      <td>61.078431</td>\n",
       "    </tr>\n",
       "  </tbody>\n",
       "</table>\n",
       "</div>"
      ],
      "text/plain": [
       "parent_education_level  associate's degree  bachelor's degree  high school  \\\n",
       "reading                          67.857143          70.611111    63.450000   \n",
       "writing                          65.842857          69.986111    60.207143   \n",
       "math                             65.571429          66.902778    60.992857   \n",
       "\n",
       "parent_education_level  master's degree  some college  some high school  \n",
       "reading                       73.897436     66.087248         63.911765  \n",
       "writing                       73.410256     64.872483         60.754902  \n",
       "math                          69.307692     64.892617         61.078431  "
      ]
     },
     "execution_count": 114,
     "metadata": {},
     "output_type": "execute_result"
    }
   ],
   "source": [
    "#transposing the 'tookPrepCourse' and 'noPrepCourse' dataframes so that I can plot\n",
    "# the average scores for each test together and compare the average parental education\n",
    "#levels for each test taken by the students.\n",
    "\n",
    "transposedTookPrepCourse = tookPrepCourse.T\n",
    "transposedTookPrepCourse\n",
    "\n",
    "noTookPrepCourse = noPrepCourse.T\n",
    "noTookPrepCourse"
   ]
  },
  {
   "cell_type": "code",
   "execution_count": 128,
   "id": "759bb6fe",
   "metadata": {},
   "outputs": [
    {
     "data": {
      "image/png": "[encoded data removed]",
      "text/plain": [
       "<Figure size 1440x1080 with 1 Axes>"
      ]
     },
     "metadata": {
      "needs_background": "light"
     },
     "output_type": "display_data"
    },
    {
     "data": {
      "image/png": "[encoded data removed]",
      "text/plain": [
       "<Figure size 1440x1080 with 1 Axes>"
      ]
     },
     "metadata": {
      "needs_background": "light"
     },
     "output_type": "display_data"
    }
   ],
   "source": [
    "#plotting the transposed dataframes\n",
    "\n",
    "completedPrep = transposedTookPrepCourse.plot(kind=\"bar\",figsize=(20, 15),rot=0)\n",
    "\n",
    "completedPrep.set_title(\"Average scores for students took the prep course and their different parental education levels\")\n",
    "completedPrep.set_xlabel(\"Test categories\")\n",
    "completedPrep.set_ylabel(\"Average Scores\")\n",
    "for container in completedPrep.containers:\n",
    "    completedPrep.bar_label(container, fmt='%.1f')\n",
    "\n",
    "NoPrep = noTookPrepCourse.plot(kind=\"bar\",figsize=(20, 15),rot=0)\n",
    "\n",
    "NoPrep.set_title(\"Average scores for students who didn't take prep course and their different parental education levels\")\n",
    "NoPrep.set_xlabel(\"Test categories\")\n",
    "NoPrep.set_ylabel(\"Average Scores\")\n",
    "for container in NoPrep.containers:\n",
    "    NoPrep.bar_label(container, fmt='%.1f')"
   ]
  },
  {
   "cell_type": "markdown",
   "id": "b9b0ce9d",
   "metadata": {},
   "source": [
    "According to the graphs above, one can notice that for all test categories across the different education levels, students who took the test preparation course had a higher average score than their counterparts who did not take the score.\n",
    "Although there is an interesting observation via the difference in average scores and I would like to take a closer look."
   ]
  },
  {
   "cell_type": "code",
   "execution_count": 116,
   "id": "fe48e1aa",
   "metadata": {},
   "outputs": [
    {
     "data": {
      "text/html": [
       "<div>\n",
       "<style scoped>\n",
       "    .dataframe tbody tr th:only-of-type {\n",
       "        vertical-align: middle;\n",
       "    }\n",
       "\n",
       "    .dataframe tbody tr th {\n",
       "        vertical-align: top;\n",
       "    }\n",
       "\n",
       "    .dataframe thead th {\n",
       "        text-align: right;\n",
       "    }\n",
       "</style>\n",
       "<table border=\"1\" class=\"dataframe\">\n",
       "  <thead>\n",
       "    <tr style=\"text-align: right;\">\n",
       "      <th>parent_education_level</th>\n",
       "      <th>associate's degree</th>\n",
       "      <th>bachelor's degree</th>\n",
       "      <th>high school</th>\n",
       "      <th>master's degree</th>\n",
       "      <th>some college</th>\n",
       "      <th>some high school</th>\n",
       "    </tr>\n",
       "  </thead>\n",
       "  <tbody>\n",
       "    <tr>\n",
       "      <th>reading</th>\n",
       "      <td>8.313589</td>\n",
       "      <td>6.128019</td>\n",
       "      <td>4.389286</td>\n",
       "      <td>4.352564</td>\n",
       "      <td>9.899765</td>\n",
       "      <td>7.036287</td>\n",
       "    </tr>\n",
       "    <tr>\n",
       "      <th>writing</th>\n",
       "      <td>10.974216</td>\n",
       "      <td>8.709541</td>\n",
       "      <td>7.846429</td>\n",
       "      <td>6.689744</td>\n",
       "      <td>11.646997</td>\n",
       "      <td>9.608734</td>\n",
       "    </tr>\n",
       "    <tr>\n",
       "      <th>math</th>\n",
       "      <td>6.257840</td>\n",
       "      <td>6.379831</td>\n",
       "      <td>4.007143</td>\n",
       "      <td>1.292308</td>\n",
       "      <td>6.561928</td>\n",
       "      <td>5.622867</td>\n",
       "    </tr>\n",
       "  </tbody>\n",
       "</table>\n",
       "</div>"
      ],
      "text/plain": [
       "parent_education_level  associate's degree  bachelor's degree  high school  \\\n",
       "reading                           8.313589           6.128019     4.389286   \n",
       "writing                          10.974216           8.709541     7.846429   \n",
       "math                              6.257840           6.379831     4.007143   \n",
       "\n",
       "parent_education_level  master's degree  some college  some high school  \n",
       "reading                        4.352564      9.899765          7.036287  \n",
       "writing                        6.689744     11.646997          9.608734  \n",
       "math                           1.292308      6.561928          5.622867  "
      ]
     },
     "execution_count": 116,
     "metadata": {},
     "output_type": "execute_result"
    }
   ],
   "source": [
    "differenceInAverages = transposedTookPrepCourse.subtract(noTookPrepCourse)\n",
    "differenceInAverages"
   ]
  },
  {
   "cell_type": "code",
   "execution_count": 117,
   "id": "5165e244",
   "metadata": {},
   "outputs": [
    {
     "data": {
      "image/png": "[encoded data removed]",
      "text/plain": [
       "<Figure size 1440x1080 with 1 Axes>"
      ]
     },
     "metadata": {
      "needs_background": "light"
     },
     "output_type": "display_data"
    }
   ],
   "source": [
    "difference = differenceInAverages.plot(kind=\"bar\",figsize=(20, 15),rot=0)\n",
    "\n",
    "difference.set_title(\"Difference between the average scores for students took the prep course or not,  and their different parental education levels\")\n",
    "difference.set_xlabel(\"Test categories\")\n",
    "difference.set_ylabel(\"Difference between average scores\")\n",
    "for container in completedPrep.containers:\n",
    "    completedPrep.bar_label(container, fmt='%.1f')"
   ]
  },
  {
   "cell_type": "markdown",
   "id": "660892f9",
   "metadata": {},
   "source": [
    "In the graph above, I have made a visualization showing the difference between the average scores of students who took the preparation course versus those who didn't for the various parental education levels. In simpler terms, for the children who parents finished high school only with some child doing the prep course and others not , what is the difference between the average reading scores of these two children?\n",
    "\n",
    "-\n",
    "------------------------------------------------------------------------------------------------\n",
    "\n",
    "Taking a difference of 5 or greater as significant since this usually means a difference in grade i.e someone who has a C+ and gets 5 more marks may get a new grade of a B-.\n",
    "\n",
    "-\n",
    "------------------------------------------------------------------------------------------------\n",
    "\n",
    "So the interesting thing I noticed was that for math, the average reading scores for the children who took the prep course and who did not had a slight margin. This means that taking the prep course may not impact the student's math scores that much. The impact of the prep course seems to be much less via the math test for students whose parents hold a master's degree.\n",
    "However, the difference between math scores of students whose parents are of \"some college\", \"bachelor's degree\" ,\"associate's degree\" and \"some high school\" is somewhat significant and so these students may need the math test prep course the most.\n",
    "\n",
    "-\n",
    "------------------------------------------------------------------------------------------------\n",
    "\n",
    "One can also notice, the test preparation course seems to have a greater impact on student's writing scores, out of all the tests. The difference for all parental levels of education is greater than 5 and I find this interesting. The impact seems to be the greatest on students whose parents have an education level of \"some college\", followed by \"associate's degree\". One could say these students may need the writing test prep more but looking through all the tests, the test prep course looks to be helpful to all students regardless of their parent's education levels.\n",
    "\n",
    "-\n",
    "------------------------------------------------------------------------------------------------\n",
    "\n",
    "Via the reading test, for students of parents with \"some college\",\"associate's degree\",\"some high school\" and \"bachelor's degree\", the difference between the average scores after taking the test prep or no prep is significant and therefore these students may need the reading test prep more."
   ]
  },
  {
   "cell_type": "markdown",
   "id": "caf392e8",
   "metadata": {},
   "source": [
    "## 5. The principal wants to know if kids who perform well on one subject also score well on the others. Look at the correlations between scores."
   ]
  },
  {
   "cell_type": "code",
   "execution_count": 129,
   "id": "73d8e083",
   "metadata": {},
   "outputs": [
    {
     "data": {
      "text/html": [
       "<div>\n",
       "<style scoped>\n",
       "    .dataframe tbody tr th:only-of-type {\n",
       "        vertical-align: middle;\n",
       "    }\n",
       "\n",
       "    .dataframe tbody tr th {\n",
       "        vertical-align: top;\n",
       "    }\n",
       "\n",
       "    .dataframe thead th {\n",
       "        text-align: right;\n",
       "    }\n",
       "</style>\n",
       "<table border=\"1\" class=\"dataframe\">\n",
       "  <thead>\n",
       "    <tr style=\"text-align: right;\">\n",
       "      <th></th>\n",
       "      <th>math</th>\n",
       "      <th>reading</th>\n",
       "      <th>writing</th>\n",
       "    </tr>\n",
       "  </thead>\n",
       "  <tbody>\n",
       "    <tr>\n",
       "      <th>0</th>\n",
       "      <td>72</td>\n",
       "      <td>72</td>\n",
       "      <td>74</td>\n",
       "    </tr>\n",
       "    <tr>\n",
       "      <th>1</th>\n",
       "      <td>69</td>\n",
       "      <td>90</td>\n",
       "      <td>88</td>\n",
       "    </tr>\n",
       "    <tr>\n",
       "      <th>2</th>\n",
       "      <td>90</td>\n",
       "      <td>95</td>\n",
       "      <td>93</td>\n",
       "    </tr>\n",
       "    <tr>\n",
       "      <th>3</th>\n",
       "      <td>47</td>\n",
       "      <td>57</td>\n",
       "      <td>44</td>\n",
       "    </tr>\n",
       "    <tr>\n",
       "      <th>4</th>\n",
       "      <td>76</td>\n",
       "      <td>78</td>\n",
       "      <td>75</td>\n",
       "    </tr>\n",
       "    <tr>\n",
       "      <th>...</th>\n",
       "      <td>...</td>\n",
       "      <td>...</td>\n",
       "      <td>...</td>\n",
       "    </tr>\n",
       "    <tr>\n",
       "      <th>995</th>\n",
       "      <td>88</td>\n",
       "      <td>99</td>\n",
       "      <td>95</td>\n",
       "    </tr>\n",
       "    <tr>\n",
       "      <th>996</th>\n",
       "      <td>62</td>\n",
       "      <td>55</td>\n",
       "      <td>55</td>\n",
       "    </tr>\n",
       "    <tr>\n",
       "      <th>997</th>\n",
       "      <td>59</td>\n",
       "      <td>71</td>\n",
       "      <td>65</td>\n",
       "    </tr>\n",
       "    <tr>\n",
       "      <th>998</th>\n",
       "      <td>68</td>\n",
       "      <td>78</td>\n",
       "      <td>77</td>\n",
       "    </tr>\n",
       "    <tr>\n",
       "      <th>999</th>\n",
       "      <td>77</td>\n",
       "      <td>86</td>\n",
       "      <td>86</td>\n",
       "    </tr>\n",
       "  </tbody>\n",
       "</table>\n",
       "<p>1000 rows × 3 columns</p>\n",
       "</div>"
      ],
      "text/plain": [
       "     math  reading  writing\n",
       "0      72       72       74\n",
       "1      69       90       88\n",
       "2      90       95       93\n",
       "3      47       57       44\n",
       "4      76       78       75\n",
       "..    ...      ...      ...\n",
       "995    88       99       95\n",
       "996    62       55       55\n",
       "997    59       71       65\n",
       "998    68       78       77\n",
       "999    77       86       86\n",
       "\n",
       "[1000 rows x 3 columns]"
      ]
     },
     "execution_count": 129,
     "metadata": {},
     "output_type": "execute_result"
    }
   ],
   "source": [
    "studentData = studentData[['math','reading','writing']]\n",
    "studentData"
   ]
  },
  {
   "cell_type": "markdown",
   "id": "5d147162",
   "metadata": {},
   "source": [
    "From my point of view of 'performing well', I took the students who scored 80 and above in a test"
   ]
  },
  {
   "cell_type": "markdown",
   "id": "7d6b286f",
   "metadata": {},
   "source": [
    "### Students who perform well in math"
   ]
  },
  {
   "cell_type": "code",
   "execution_count": 139,
   "id": "9bb6c1f6",
   "metadata": {},
   "outputs": [
    {
     "data": {
      "text/html": [
       "<div>\n",
       "<style scoped>\n",
       "    .dataframe tbody tr th:only-of-type {\n",
       "        vertical-align: middle;\n",
       "    }\n",
       "\n",
       "    .dataframe tbody tr th {\n",
       "        vertical-align: top;\n",
       "    }\n",
       "\n",
       "    .dataframe thead th {\n",
       "        text-align: right;\n",
       "    }\n",
       "</style>\n",
       "<table border=\"1\" class=\"dataframe\">\n",
       "  <thead>\n",
       "    <tr style=\"text-align: right;\">\n",
       "      <th></th>\n",
       "      <th>math</th>\n",
       "      <th>reading</th>\n",
       "      <th>writing</th>\n",
       "    </tr>\n",
       "  </thead>\n",
       "  <tbody>\n",
       "    <tr>\n",
       "      <th>2</th>\n",
       "      <td>90</td>\n",
       "      <td>95</td>\n",
       "      <td>93</td>\n",
       "    </tr>\n",
       "    <tr>\n",
       "      <th>6</th>\n",
       "      <td>88</td>\n",
       "      <td>95</td>\n",
       "      <td>92</td>\n",
       "    </tr>\n",
       "    <tr>\n",
       "      <th>16</th>\n",
       "      <td>88</td>\n",
       "      <td>89</td>\n",
       "      <td>86</td>\n",
       "    </tr>\n",
       "    <tr>\n",
       "      <th>34</th>\n",
       "      <td>97</td>\n",
       "      <td>87</td>\n",
       "      <td>82</td>\n",
       "    </tr>\n",
       "    <tr>\n",
       "      <th>35</th>\n",
       "      <td>81</td>\n",
       "      <td>81</td>\n",
       "      <td>79</td>\n",
       "    </tr>\n",
       "    <tr>\n",
       "      <th>...</th>\n",
       "      <td>...</td>\n",
       "      <td>...</td>\n",
       "      <td>...</td>\n",
       "    </tr>\n",
       "    <tr>\n",
       "      <th>979</th>\n",
       "      <td>91</td>\n",
       "      <td>95</td>\n",
       "      <td>94</td>\n",
       "    </tr>\n",
       "    <tr>\n",
       "      <th>981</th>\n",
       "      <td>81</td>\n",
       "      <td>78</td>\n",
       "      <td>78</td>\n",
       "    </tr>\n",
       "    <tr>\n",
       "      <th>987</th>\n",
       "      <td>81</td>\n",
       "      <td>75</td>\n",
       "      <td>76</td>\n",
       "    </tr>\n",
       "    <tr>\n",
       "      <th>990</th>\n",
       "      <td>86</td>\n",
       "      <td>81</td>\n",
       "      <td>75</td>\n",
       "    </tr>\n",
       "    <tr>\n",
       "      <th>995</th>\n",
       "      <td>88</td>\n",
       "      <td>99</td>\n",
       "      <td>95</td>\n",
       "    </tr>\n",
       "  </tbody>\n",
       "</table>\n",
       "<p>176 rows × 3 columns</p>\n",
       "</div>"
      ],
      "text/plain": [
       "     math  reading  writing\n",
       "2      90       95       93\n",
       "6      88       95       92\n",
       "16     88       89       86\n",
       "34     97       87       82\n",
       "35     81       81       79\n",
       "..    ...      ...      ...\n",
       "979    91       95       94\n",
       "981    81       78       78\n",
       "987    81       75       76\n",
       "990    86       81       75\n",
       "995    88       99       95\n",
       "\n",
       "[176 rows x 3 columns]"
      ]
     },
     "execution_count": 139,
     "metadata": {},
     "output_type": "execute_result"
    }
   ],
   "source": [
    "mathGreats = studentData.query(\"math > 80\")\n",
    "mathGreats\n"
   ]
  },
  {
   "cell_type": "code",
   "execution_count": 131,
   "id": "9c88f74e",
   "metadata": {
    "scrolled": true
   },
   "outputs": [
    {
     "data": {
      "text/html": [
       "<div>\n",
       "<style scoped>\n",
       "    .dataframe tbody tr th:only-of-type {\n",
       "        vertical-align: middle;\n",
       "    }\n",
       "\n",
       "    .dataframe tbody tr th {\n",
       "        vertical-align: top;\n",
       "    }\n",
       "\n",
       "    .dataframe thead th {\n",
       "        text-align: right;\n",
       "    }\n",
       "</style>\n",
       "<table border=\"1\" class=\"dataframe\">\n",
       "  <thead>\n",
       "    <tr style=\"text-align: right;\">\n",
       "      <th></th>\n",
       "      <th>math</th>\n",
       "      <th>reading</th>\n",
       "      <th>writing</th>\n",
       "    </tr>\n",
       "  </thead>\n",
       "  <tbody>\n",
       "    <tr>\n",
       "      <th>math</th>\n",
       "      <td>1.000000</td>\n",
       "      <td>0.462581</td>\n",
       "      <td>0.413456</td>\n",
       "    </tr>\n",
       "    <tr>\n",
       "      <th>reading</th>\n",
       "      <td>0.462581</td>\n",
       "      <td>1.000000</td>\n",
       "      <td>0.883358</td>\n",
       "    </tr>\n",
       "    <tr>\n",
       "      <th>writing</th>\n",
       "      <td>0.413456</td>\n",
       "      <td>0.883358</td>\n",
       "      <td>1.000000</td>\n",
       "    </tr>\n",
       "  </tbody>\n",
       "</table>\n",
       "</div>"
      ],
      "text/plain": [
       "             math   reading   writing\n",
       "math     1.000000  0.462581  0.413456\n",
       "reading  0.462581  1.000000  0.883358\n",
       "writing  0.413456  0.883358  1.000000"
      ]
     },
     "execution_count": 131,
     "metadata": {},
     "output_type": "execute_result"
    }
   ],
   "source": [
    "mathGreats.corr(method ='pearson',numeric_only=\"True\")"
   ]
  },
  {
   "cell_type": "code",
   "execution_count": 141,
   "id": "e9ee33aa",
   "metadata": {},
   "outputs": [
    {
     "data": {
      "text/plain": [
       "Text(0.5, 1.0, 'Correlation between the students who do well in maths and their tests in other scores')"
      ]
     },
     "execution_count": 141,
     "metadata": {},
     "output_type": "execute_result"
    },
    {
     "data": {
      "image/png": "[encoded data removed]",
      "text/plain": [
       "<Figure size 432x288 with 2 Axes>"
      ]
     },
     "metadata": {
      "needs_background": "light"
     },
     "output_type": "display_data"
    }
   ],
   "source": [
    "maps = mathGreats.corr(method ='pearson',numeric_only=\"True\")\n",
    "sns.heatmap(maps, annot=True)\n",
    "plt.title('Correlation between the students who do well in maths and their tests in other scores')"
   ]
  },
  {
   "cell_type": "markdown",
   "id": "589cb390",
   "metadata": {},
   "source": [
    "From the correlation values above, the following conclusions can be made about students who perform well in maths\n",
    "1. Students who do well in maths have their reading scores a bit farther from their math scores.\n",
    "2. Students who do well in maths have their writing scores also farther from their math scores."
   ]
  },
  {
   "cell_type": "markdown",
   "id": "eb570cbc",
   "metadata": {},
   "source": [
    "### Students who perform well in reading"
   ]
  },
  {
   "cell_type": "code",
   "execution_count": 145,
   "id": "38aaeb17",
   "metadata": {},
   "outputs": [
    {
     "data": {
      "text/html": [
       "<div>\n",
       "<style scoped>\n",
       "    .dataframe tbody tr th:only-of-type {\n",
       "        vertical-align: middle;\n",
       "    }\n",
       "\n",
       "    .dataframe tbody tr th {\n",
       "        vertical-align: top;\n",
       "    }\n",
       "\n",
       "    .dataframe thead th {\n",
       "        text-align: right;\n",
       "    }\n",
       "</style>\n",
       "<table border=\"1\" class=\"dataframe\">\n",
       "  <thead>\n",
       "    <tr style=\"text-align: right;\">\n",
       "      <th></th>\n",
       "      <th>math</th>\n",
       "      <th>reading</th>\n",
       "      <th>writing</th>\n",
       "    </tr>\n",
       "  </thead>\n",
       "  <tbody>\n",
       "    <tr>\n",
       "      <th>1</th>\n",
       "      <td>69</td>\n",
       "      <td>90</td>\n",
       "      <td>88</td>\n",
       "    </tr>\n",
       "    <tr>\n",
       "      <th>2</th>\n",
       "      <td>90</td>\n",
       "      <td>95</td>\n",
       "      <td>93</td>\n",
       "    </tr>\n",
       "    <tr>\n",
       "      <th>5</th>\n",
       "      <td>71</td>\n",
       "      <td>83</td>\n",
       "      <td>78</td>\n",
       "    </tr>\n",
       "    <tr>\n",
       "      <th>6</th>\n",
       "      <td>88</td>\n",
       "      <td>95</td>\n",
       "      <td>92</td>\n",
       "    </tr>\n",
       "    <tr>\n",
       "      <th>12</th>\n",
       "      <td>65</td>\n",
       "      <td>81</td>\n",
       "      <td>73</td>\n",
       "    </tr>\n",
       "    <tr>\n",
       "      <th>...</th>\n",
       "      <td>...</td>\n",
       "      <td>...</td>\n",
       "      <td>...</td>\n",
       "    </tr>\n",
       "    <tr>\n",
       "      <th>989</th>\n",
       "      <td>67</td>\n",
       "      <td>86</td>\n",
       "      <td>83</td>\n",
       "    </tr>\n",
       "    <tr>\n",
       "      <th>990</th>\n",
       "      <td>86</td>\n",
       "      <td>81</td>\n",
       "      <td>75</td>\n",
       "    </tr>\n",
       "    <tr>\n",
       "      <th>991</th>\n",
       "      <td>65</td>\n",
       "      <td>82</td>\n",
       "      <td>78</td>\n",
       "    </tr>\n",
       "    <tr>\n",
       "      <th>995</th>\n",
       "      <td>88</td>\n",
       "      <td>99</td>\n",
       "      <td>95</td>\n",
       "    </tr>\n",
       "    <tr>\n",
       "      <th>999</th>\n",
       "      <td>77</td>\n",
       "      <td>86</td>\n",
       "      <td>86</td>\n",
       "    </tr>\n",
       "  </tbody>\n",
       "</table>\n",
       "<p>235 rows × 3 columns</p>\n",
       "</div>"
      ],
      "text/plain": [
       "     math  reading  writing\n",
       "1      69       90       88\n",
       "2      90       95       93\n",
       "5      71       83       78\n",
       "6      88       95       92\n",
       "12     65       81       73\n",
       "..    ...      ...      ...\n",
       "989    67       86       83\n",
       "990    86       81       75\n",
       "991    65       82       78\n",
       "995    88       99       95\n",
       "999    77       86       86\n",
       "\n",
       "[235 rows x 3 columns]"
      ]
     },
     "execution_count": 145,
     "metadata": {},
     "output_type": "execute_result"
    }
   ],
   "source": [
    "readingGreats = studentData.query(\"reading > 80\")\n",
    "readingGreats"
   ]
  },
  {
   "cell_type": "code",
   "execution_count": 146,
   "id": "87c04a79",
   "metadata": {},
   "outputs": [
    {
     "data": {
      "text/html": [
       "<div>\n",
       "<style scoped>\n",
       "    .dataframe tbody tr th:only-of-type {\n",
       "        vertical-align: middle;\n",
       "    }\n",
       "\n",
       "    .dataframe tbody tr th {\n",
       "        vertical-align: top;\n",
       "    }\n",
       "\n",
       "    .dataframe thead th {\n",
       "        text-align: right;\n",
       "    }\n",
       "</style>\n",
       "<table border=\"1\" class=\"dataframe\">\n",
       "  <thead>\n",
       "    <tr style=\"text-align: right;\">\n",
       "      <th></th>\n",
       "      <th>math</th>\n",
       "      <th>reading</th>\n",
       "      <th>writing</th>\n",
       "    </tr>\n",
       "  </thead>\n",
       "  <tbody>\n",
       "    <tr>\n",
       "      <th>math</th>\n",
       "      <td>1.000000</td>\n",
       "      <td>0.518973</td>\n",
       "      <td>0.466912</td>\n",
       "    </tr>\n",
       "    <tr>\n",
       "      <th>reading</th>\n",
       "      <td>0.518973</td>\n",
       "      <td>1.000000</td>\n",
       "      <td>0.781316</td>\n",
       "    </tr>\n",
       "    <tr>\n",
       "      <th>writing</th>\n",
       "      <td>0.466912</td>\n",
       "      <td>0.781316</td>\n",
       "      <td>1.000000</td>\n",
       "    </tr>\n",
       "  </tbody>\n",
       "</table>\n",
       "</div>"
      ],
      "text/plain": [
       "             math   reading   writing\n",
       "math     1.000000  0.518973  0.466912\n",
       "reading  0.518973  1.000000  0.781316\n",
       "writing  0.466912  0.781316  1.000000"
      ]
     },
     "execution_count": 146,
     "metadata": {},
     "output_type": "execute_result"
    }
   ],
   "source": [
    "readingGreats.corr(method ='pearson',numeric_only=\"True\")"
   ]
  },
  {
   "cell_type": "code",
   "execution_count": 147,
   "id": "60dfcea5",
   "metadata": {},
   "outputs": [
    {
     "data": {
      "text/plain": [
       "Text(0.5, 1.0, 'Correlation between the students who do well in reading and their tests in other scores')"
      ]
     },
     "execution_count": 147,
     "metadata": {},
     "output_type": "execute_result"
    },
    {
     "data": {
      "image/png": "[encoded data removed]",
      "text/plain": [
       "<Figure size 432x288 with 2 Axes>"
      ]
     },
     "metadata": {
      "needs_background": "light"
     },
     "output_type": "display_data"
    }
   ],
   "source": [
    "maps = readingGreats.corr(method ='pearson',numeric_only=\"True\")\n",
    "sns.heatmap(maps, annot=True)\n",
    "plt.title('Correlation between the students who do well in reading and their tests in other scores')"
   ]
  },
  {
   "cell_type": "markdown",
   "id": "1bf5b26c",
   "metadata": {},
   "source": [
    "From the correlation values above, the following conclusions can be made about students who perform well in reading\n",
    "1. Students who do well in reading have their writing scores very close to their good reading scores.\n",
    "2. Students who do well in reading have their math scores close to their reading scores but not as close as their writing scores."
   ]
  },
  {
   "cell_type": "markdown",
   "id": "9cf6822d",
   "metadata": {},
   "source": [
    "### Students who perform well in writing"
   ]
  },
  {
   "cell_type": "code",
   "execution_count": 148,
   "id": "8019f851",
   "metadata": {},
   "outputs": [
    {
     "data": {
      "text/html": [
       "<div>\n",
       "<style scoped>\n",
       "    .dataframe tbody tr th:only-of-type {\n",
       "        vertical-align: middle;\n",
       "    }\n",
       "\n",
       "    .dataframe tbody tr th {\n",
       "        vertical-align: top;\n",
       "    }\n",
       "\n",
       "    .dataframe thead th {\n",
       "        text-align: right;\n",
       "    }\n",
       "</style>\n",
       "<table border=\"1\" class=\"dataframe\">\n",
       "  <thead>\n",
       "    <tr style=\"text-align: right;\">\n",
       "      <th></th>\n",
       "      <th>math</th>\n",
       "      <th>reading</th>\n",
       "      <th>writing</th>\n",
       "    </tr>\n",
       "  </thead>\n",
       "  <tbody>\n",
       "    <tr>\n",
       "      <th>1</th>\n",
       "      <td>69</td>\n",
       "      <td>90</td>\n",
       "      <td>88</td>\n",
       "    </tr>\n",
       "    <tr>\n",
       "      <th>2</th>\n",
       "      <td>90</td>\n",
       "      <td>95</td>\n",
       "      <td>93</td>\n",
       "    </tr>\n",
       "    <tr>\n",
       "      <th>6</th>\n",
       "      <td>88</td>\n",
       "      <td>95</td>\n",
       "      <td>92</td>\n",
       "    </tr>\n",
       "    <tr>\n",
       "      <th>16</th>\n",
       "      <td>88</td>\n",
       "      <td>89</td>\n",
       "      <td>86</td>\n",
       "    </tr>\n",
       "    <tr>\n",
       "      <th>34</th>\n",
       "      <td>97</td>\n",
       "      <td>87</td>\n",
       "      <td>82</td>\n",
       "    </tr>\n",
       "    <tr>\n",
       "      <th>...</th>\n",
       "      <td>...</td>\n",
       "      <td>...</td>\n",
       "      <td>...</td>\n",
       "    </tr>\n",
       "    <tr>\n",
       "      <th>983</th>\n",
       "      <td>78</td>\n",
       "      <td>87</td>\n",
       "      <td>91</td>\n",
       "    </tr>\n",
       "    <tr>\n",
       "      <th>984</th>\n",
       "      <td>74</td>\n",
       "      <td>75</td>\n",
       "      <td>82</td>\n",
       "    </tr>\n",
       "    <tr>\n",
       "      <th>989</th>\n",
       "      <td>67</td>\n",
       "      <td>86</td>\n",
       "      <td>83</td>\n",
       "    </tr>\n",
       "    <tr>\n",
       "      <th>995</th>\n",
       "      <td>88</td>\n",
       "      <td>99</td>\n",
       "      <td>95</td>\n",
       "    </tr>\n",
       "    <tr>\n",
       "      <th>999</th>\n",
       "      <td>77</td>\n",
       "      <td>86</td>\n",
       "      <td>86</td>\n",
       "    </tr>\n",
       "  </tbody>\n",
       "</table>\n",
       "<p>208 rows × 3 columns</p>\n",
       "</div>"
      ],
      "text/plain": [
       "     math  reading  writing\n",
       "1      69       90       88\n",
       "2      90       95       93\n",
       "6      88       95       92\n",
       "16     88       89       86\n",
       "34     97       87       82\n",
       "..    ...      ...      ...\n",
       "983    78       87       91\n",
       "984    74       75       82\n",
       "989    67       86       83\n",
       "995    88       99       95\n",
       "999    77       86       86\n",
       "\n",
       "[208 rows x 3 columns]"
      ]
     },
     "execution_count": 148,
     "metadata": {},
     "output_type": "execute_result"
    }
   ],
   "source": [
    "writingGreats = studentData.query(\"writing > 80\")\n",
    "writingGreats"
   ]
  },
  {
   "cell_type": "code",
   "execution_count": 149,
   "id": "1dc23b2f",
   "metadata": {},
   "outputs": [
    {
     "data": {
      "text/html": [
       "<div>\n",
       "<style scoped>\n",
       "    .dataframe tbody tr th:only-of-type {\n",
       "        vertical-align: middle;\n",
       "    }\n",
       "\n",
       "    .dataframe tbody tr th {\n",
       "        vertical-align: top;\n",
       "    }\n",
       "\n",
       "    .dataframe thead th {\n",
       "        text-align: right;\n",
       "    }\n",
       "</style>\n",
       "<table border=\"1\" class=\"dataframe\">\n",
       "  <thead>\n",
       "    <tr style=\"text-align: right;\">\n",
       "      <th></th>\n",
       "      <th>math</th>\n",
       "      <th>reading</th>\n",
       "      <th>writing</th>\n",
       "    </tr>\n",
       "  </thead>\n",
       "  <tbody>\n",
       "    <tr>\n",
       "      <th>math</th>\n",
       "      <td>1.000000</td>\n",
       "      <td>0.567256</td>\n",
       "      <td>0.550497</td>\n",
       "    </tr>\n",
       "    <tr>\n",
       "      <th>reading</th>\n",
       "      <td>0.567256</td>\n",
       "      <td>1.000000</td>\n",
       "      <td>0.783818</td>\n",
       "    </tr>\n",
       "    <tr>\n",
       "      <th>writing</th>\n",
       "      <td>0.550497</td>\n",
       "      <td>0.783818</td>\n",
       "      <td>1.000000</td>\n",
       "    </tr>\n",
       "  </tbody>\n",
       "</table>\n",
       "</div>"
      ],
      "text/plain": [
       "             math   reading   writing\n",
       "math     1.000000  0.567256  0.550497\n",
       "reading  0.567256  1.000000  0.783818\n",
       "writing  0.550497  0.783818  1.000000"
      ]
     },
     "execution_count": 149,
     "metadata": {},
     "output_type": "execute_result"
    }
   ],
   "source": [
    "writingGreats.corr(method ='pearson',numeric_only=\"True\")"
   ]
  },
  {
   "cell_type": "code",
   "execution_count": 144,
   "id": "93d000d7",
   "metadata": {},
   "outputs": [
    {
     "data": {
      "text/plain": [
       "Text(0.5, 1.0, 'Correlation between the students who do well in reading and their tests in other scores')"
      ]
     },
     "execution_count": 144,
     "metadata": {},
     "output_type": "execute_result"
    },
    {
     "data": {
      "image/png": "[encoded data removed]",
      "text/plain": [
       "<Figure size 432x288 with 2 Axes>"
      ]
     },
     "metadata": {
      "needs_background": "light"
     },
     "output_type": "display_data"
    }
   ],
   "source": [
    "maps = writingGreats.corr(method ='pearson',numeric_only=\"True\")\n",
    "sns.heatmap(maps, annot=True)\n",
    "plt.title('Correlation between the students who do well in reading and their tests in other scores')"
   ]
  },
  {
   "cell_type": "markdown",
   "id": "0279c9ba",
   "metadata": {},
   "source": [
    "From the correlation values above, the following conclusions can be made about students who perform well in reading\n",
    "1. Students who do well in writing have their reading scores very close to their good writing scores.\n",
    "2. Students who do well in writing have their math scores close to the writing scores but not as close as the reading scores."
   ]
  },
  {
   "cell_type": "markdown",
   "id": "bbfa99f7",
   "metadata": {},
   "source": [
    "### Summary of findings\n",
    "1. Generally, doing the test preparation course will results in better test scores for a student.\n",
    "2. Students whose parents have an education level of a master's degree are performing the best within the school and the least average scores are achieved by the children of parents with 'high school level'\n",
    "3. The test preparation score is helping students mainly with the writing test and least with the math test.\n",
    "4. Students of parental education level \"some college\" are benefitting the most from the test preparation course"
   ]
  },
  {
   "cell_type": "code",
   "execution_count": null,
   "id": "9636c373",
   "metadata": {},
   "outputs": [],
   "source": []
  }
 ],
 "metadata": {
  "kernelspec": {
   "display_name": "Python 3 (ipykernel)",
   "language": "python",
   "name": "python3"
  },
  "language_info": {
   "codemirror_mode": {
    "name": "ipython",
    "version": 3
   },
   "file_extension": ".py",
   "mimetype": "text/x-python",
   "name": "python",
   "nbconvert_exporter": "python",
   "pygments_lexer": "ipython3",
   "version": "3.9.7"
  }
 },
 "nbformat": 4,
 "nbformat_minor": 5
}
